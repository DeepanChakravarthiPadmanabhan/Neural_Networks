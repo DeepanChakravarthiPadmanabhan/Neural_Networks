{
 "cells": [
  {
   "cell_type": "markdown",
   "metadata": {},
   "source": [
    "Team members:\n",
    "1. Deepan Chakravarthi Padmanabhan\n",
    "2. Jaswanth Bandlamudi\n",
    "3. Raghuvir Shirodkar"
   ]
  },
  {
   "cell_type": "markdown",
   "metadata": {
    "colab_type": "text",
    "id": "EhimMQAvYp5e"
   },
   "source": [
    "# Tensorflow Keras Image Classification using Convolution Neural Network\n"
   ]
  },
  {
   "cell_type": "code",
   "execution_count": 18,
   "metadata": {
    "colab": {
     "base_uri": "https://localhost:8080/",
     "height": 99
    },
    "colab_type": "code",
    "id": "Z7xhxleXLcvU",
    "outputId": "147d93d4-bad4-4e13-d9eb-3382cfe407c1"
   },
   "outputs": [
    {
     "name": "stdout",
     "output_type": "stream",
     "text": [
      "1.14.0\n"
     ]
    }
   ],
   "source": [
    "from __future__ import absolute_import, division, print_function, unicode_literals\n",
    "\n",
    "import tensorflow as tf\n",
    "\n",
    "tf.keras.backend.clear_session()  # For easy reset of notebook stat\n",
    "print(tf.__version__)"
   ]
  },
  {
   "cell_type": "markdown",
   "metadata": {
    "colab_type": "text",
    "id": "1HJ3_JgZRDOB"
   },
   "source": [
    "## Sample network and training on MNIST dataset\n",
    "\n",
    "Below is a sample code from the tensorflow keras library to model a cnn architecture, training it with a dataset and running inference.\n",
    "\n",
    "Please go through it and try to understand the different classes and functions available in tensorflow keras to model a cnn architecture.\n",
    "\n"
   ]
  },
  {
   "cell_type": "code",
   "execution_count": 19,
   "metadata": {
    "colab": {
     "base_uri": "https://localhost:8080/",
     "height": 625
    },
    "colab_type": "code",
    "id": "MSPWa5z03cmD",
    "outputId": "bee261e6-446b-409e-e654-36e2c96d2ad7"
   },
   "outputs": [
    {
     "data": {
      "image/png": "[encoded data removed]",
      "text/plain": [
       "<Figure size 720x720 with 25 Axes>"
      ]
     },
     "metadata": {},
     "output_type": "display_data"
    }
   ],
   "source": [
    "(train_images, train_labels), (test_images, test_labels) = tf.keras.datasets.mnist.load_data()\n",
    "\n",
    "# Looking at the shapes of each set\n",
    "# print(train_images.shape, train_labels.shape,test_images.shape, test_labels.shape)\n",
    "\n",
    "# Reshaping the train images\n",
    "train_images = train_images.reshape(train_images.shape[0], 28, 28, 1).astype('float32')\n",
    "# 60000,28,28,1\n",
    "test_images = test_images.reshape(test_images.shape[0], 28, 28, 1).astype('float32')\n",
    "\n",
    "#Normalization\n",
    "train_images = train_images.astype('float32') / 255.\n",
    "test_images = test_images.astype('float32') / 255.\n",
    "\n",
    "# Get an image from the train set\n",
    "one = train_images[3]\n",
    "# Visualize the image\n",
    "# plt.imshow(one.reshape((28,28)),cmap=plt.cm.binary)\n",
    "\n",
    "# To plot first 25 images in the trainset\n",
    "import matplotlib.pyplot as plt\n",
    "plt.figure(figsize=(10,10))\n",
    "for i in range(25):\n",
    "    plt.subplot(5,5,i+1)\n",
    "    plt.xticks([])\n",
    "    plt.yticks([])\n",
    "    plt.grid(False)\n",
    "    plt.imshow(train_images[i].reshape((28,28)), cmap=plt.cm.binary)\n",
    "    plt.xlabel(train_labels[i])\n",
    "plt.show()\n"
   ]
  },
  {
   "cell_type": "code",
   "execution_count": 20,
   "metadata": {
    "colab": {
     "base_uri": "https://localhost:8080/",
     "height": 1000
    },
    "colab_type": "code",
    "id": "I9cV5d_jYYYw",
    "outputId": "37f5f81b-b733-4715-c876-a1670240f78e"
   },
   "outputs": [
    {
     "name": "stdout",
     "output_type": "stream",
     "text": [
      "Model: \"vanila cnn\"\n",
      "_________________________________________________________________\n",
      "Layer (type)                 Output Shape              Param #   \n",
      "=================================================================\n",
      "img (InputLayer)             [(None, 28, 28, 1)]       0         \n",
      "_________________________________________________________________\n",
      "conv2d (Conv2D)              (None, 26, 26, 32)        320       \n",
      "_________________________________________________________________\n",
      "max_pooling2d (MaxPooling2D) (None, 13, 13, 32)        0         \n",
      "_________________________________________________________________\n",
      "conv2d_1 (Conv2D)            (None, 11, 11, 64)        18496     \n",
      "_________________________________________________________________\n",
      "global_average_pooling2d (Gl (None, 64)                0         \n",
      "_________________________________________________________________\n",
      "dense (Dense)                (None, 256)               16640     \n",
      "_________________________________________________________________\n",
      "dropout (Dropout)            (None, 256)               0         \n",
      "_________________________________________________________________\n",
      "dense_1 (Dense)              (None, 10)                2570      \n",
      "=================================================================\n",
      "Total params: 38,026\n",
      "Trainable params: 38,026\n",
      "Non-trainable params: 0\n",
      "_________________________________________________________________\n",
      "Failed to import pydot. You must install pydot and graphviz for `pydotprint` to work.\n"
     ]
    }
   ],
   "source": [
    "inputs = tf.keras.Input(shape=(28,28,1), name='img')\n",
    "x = tf.keras.layers.Conv2D(filters=32, kernel_size=3, activation='relu')(inputs)\n",
    "# Output shape- 'None' is the number of samples\n",
    "# Number of parameters = kernelsize**2 x number of filters + number of filter biases\n",
    "# # params = 9 x 32 + 32 = 320\n",
    "x = tf.keras.layers.MaxPooling2D()(x)\n",
    "x = tf.keras.layers.Conv2D(filters=64, kernel_size=3, activation='relu')(x)\n",
    "x = tf.keras.layers.GlobalAveragePooling2D()(x)\n",
    "x = tf.keras.layers.Dense(256, activation='relu')(x)\n",
    "x = tf.keras.layers.Dropout(rate=0.5)(x)\n",
    "outputs = tf.keras.layers.Dense(units=10, activation='softmax')(x)\n",
    "model = tf.keras.Model(inputs, outputs, name='vanila cnn')\n",
    "model.summary()\n",
    "tf.keras.utils.plot_model(model, 'vanilla_cnn.png', show_shapes=True)\n"
   ]
  },
  {
   "cell_type": "code",
   "execution_count": 4,
   "metadata": {
    "colab": {
     "base_uri": "https://localhost:8080/",
     "height": 776
    },
    "colab_type": "code",
    "id": "30bkUEM2p-0-",
    "outputId": "324ad928-225c-44df-e252-d6fd7bced4f6"
   },
   "outputs": [
    {
     "name": "stdout",
     "output_type": "stream",
     "text": [
      "Train on 60000 samples, validate on 10000 samples\n",
      "Epoch 1/10\n",
      "60000/60000 [==============================] - 16s 265us/sample - loss: 1.3803 - acc: 0.5126 - val_loss: 0.8719 - val_acc: 0.6910\n",
      "Epoch 2/10\n",
      "60000/60000 [==============================] - 15s 256us/sample - loss: 0.7190 - acc: 0.7642 - val_loss: 0.5087 - val_acc: 0.8379\n",
      "Epoch 3/10\n",
      "60000/60000 [==============================] - 16s 259us/sample - loss: 0.4964 - acc: 0.8452 - val_loss: 0.3822 - val_acc: 0.8826\n",
      "Epoch 4/10\n",
      "60000/60000 [==============================] - 16s 260us/sample - loss: 0.3807 - acc: 0.8824 - val_loss: 0.2623 - val_acc: 0.9166\n",
      "Epoch 5/10\n",
      "60000/60000 [==============================] - 16s 261us/sample - loss: 0.3181 - acc: 0.9017 - val_loss: 0.3419 - val_acc: 0.8888\n",
      "Epoch 6/10\n",
      "60000/60000 [==============================] - 16s 262us/sample - loss: 0.2694 - acc: 0.9178 - val_loss: 0.1699 - val_acc: 0.9479\n",
      "Epoch 7/10\n",
      "60000/60000 [==============================] - 16s 259us/sample - loss: 0.2336 - acc: 0.9294 - val_loss: 0.1524 - val_acc: 0.9524\n",
      "Epoch 8/10\n",
      "60000/60000 [==============================] - 15s 257us/sample - loss: 0.2063 - acc: 0.9376 - val_loss: 0.1714 - val_acc: 0.9444\n",
      "Epoch 9/10\n",
      "60000/60000 [==============================] - 15s 257us/sample - loss: 0.1882 - acc: 0.9431 - val_loss: 0.1694 - val_acc: 0.9504\n",
      "Epoch 10/10\n",
      "60000/60000 [==============================] - 16s 259us/sample - loss: 0.1671 - acc: 0.9495 - val_loss: 0.1140 - val_acc: 0.9658\n"
     ]
    }
   ],
   "source": [
    "\n",
    "#y_train = tf.keras.utils.to_categorical(y_train, 10)\n",
    "#y_test = tf.keras.utils.to_categorical(y_test, 10)\n",
    "\n",
    "model.compile(optimizer=tf.keras.optimizers.RMSprop(1e-3),\n",
    "              loss='sparse_categorical_crossentropy',\n",
    "              metrics=['acc'])\n",
    "_history = model.fit(train_images, train_labels,\n",
    "          validation_data=(test_images, test_labels),\n",
    "          batch_size=64,\n",
    "          epochs=10,\n",
    "          validation_split=0.2)\n"
   ]
  },
  {
   "cell_type": "code",
   "execution_count": 5,
   "metadata": {
    "colab": {
     "base_uri": "https://localhost:8080/",
     "height": 339
    },
    "colab_type": "code",
    "id": "Mp9jMQxOrsxy",
    "outputId": "7ec553f7-0f81-482b-d4b9-eac09a9f0420"
   },
   "outputs": [
    {
     "data": {
      "image/png": "[encoded data removed]",
      "text/plain": [
       "<Figure size 576x360 with 1 Axes>"
      ]
     },
     "metadata": {
      "needs_background": "light"
     },
     "output_type": "display_data"
    }
   ],
   "source": [
    "import matplotlib.pyplot as plt\n",
    "plt.figure(figsize=(8,5))\n",
    "plt.plot(_history.history['loss'], label='training loss')\n",
    "plt.plot(_history.history['val_loss'],label='validation loss')\n",
    "plt.legend()\n",
    "plt.grid()"
   ]
  },
  {
   "cell_type": "markdown",
   "metadata": {
    "colab_type": "text",
    "id": "gv-QwVF3RVBH"
   },
   "source": [
    "\n",
    "## Questions: Understanding Tensorflow Keras API  [2x5 = 10 points]"
   ]
  },
  {
   "cell_type": "markdown",
   "metadata": {
    "colab_type": "text",
    "id": "w8pwRi1slTpv"
   },
   "source": [
    "* What does \"?\" signify in the network diagram or None in the the model summary?\n"
   ]
  },
  {
   "cell_type": "markdown",
   "metadata": {
    "colab_type": "text",
    "id": "r3mdas6DEnK8"
   },
   "source": [
    "* The None in the model summary signify the number of samples at the input.\n",
    "* In the img(first) layer it represents the number of images in the trainset during training the network.\n",
    "* While training in batches the None is the batch size of the particular batch."
   ]
  },
  {
   "cell_type": "markdown",
   "metadata": {
    "colab_type": "text",
    "id": "sVHVXRc_Em_x"
   },
   "source": [
    "* Why does layer conv2d_19 (Conv2D)  have 2 dimension less than the upper layer?"
   ]
  },
  {
   "cell_type": "markdown",
   "metadata": {
    "colab_type": "text",
    "id": "AvsWWM9vEm2X"
   },
   "source": [
    "In the scenario given,\n",
    "\n",
    "Kernel size, K =3\n",
    "\n",
    "Input image size for 1 image, W = 28 (28 x 28 x 1 )\n",
    "\n",
    "Pad, P = 0\n",
    "\n",
    "Stride, S = 1\n",
    "\n",
    "The convolution arithematic to calculate the output image size, O is given below:\n",
    "\n",
    "$$O = \\frac{W-K+2P}{S} +1 $$\n",
    "\n",
    "$$O = \\frac{28 - 3 + 2\\times 0 }{1}+ 1$$\n",
    "$$\\implies 26$$\n",
    "\n",
    "Therefore, the output image size at conv2d_19 for 1 filter is 26 x 26 x 1 and the layer output is summarized as (?, 26,26,32) where 32 is the number of filters in the layer.\n",
    "\n"
   ]
  },
  {
   "cell_type": "markdown",
   "metadata": {
    "colab_type": "text",
    "id": "wKwvV3cJEmij"
   },
   "source": [
    "* what is stride?\n"
   ]
  },
  {
   "cell_type": "markdown",
   "metadata": {
    "colab_type": "text",
    "id": "JRQSLWylEms8"
   },
   "source": [
    "* Stride controls the number of steps the filter kernel move over the input volume. It is the amount by which the filter shifts on the input feature map.\n",
    "* Stride is chosen in such a way the output volume is an integer and not a fraction.\n",
    "* The stride of convolving a filter over input feature map can be adjusted which has an effect both on how the filter is applied to the image and, in turn, the size of the resulting feature map."
   ]
  },
  {
   "cell_type": "markdown",
   "metadata": {
    "colab_type": "text",
    "id": "wyOIgyHEEmZ2"
   },
   "source": []
  },
  {
   "cell_type": "markdown",
   "metadata": {
    "colab_type": "text",
    "id": "NM6oMspDEmOq"
   },
   "source": [
    "* Difference between MaxPooling2D and GlobalAveragePooling2D ?"
   ]
  },
  {
   "cell_type": "markdown",
   "metadata": {
    "colab_type": "text",
    "id": "mUEzIdt8El6F"
   },
   "source": [
    "Maxpooling 2D:\n",
    "* This type of pooling uses a filter of size 2x2 and a stride of the same length. It applies the filter to each individual input feature maps and outputs the maximum number in every subregion that the filter convolves around.\n",
    "* It is useful when the background of the image is dark and we are interested in only the lighter pixels of the image. For example: in MNIST dataset, the digits are represented in white color and the background is black.\n",
    "* Input image size -> (4,4,3): Maxpool2D output with stide 2 (2x2 filter) -> (2,2,3)\n",
    "\n",
    "Global Averagepooling 2D:\n",
    "\n",
    "* Global Average Pooling is an operation that calculates the average output of each feature map in the previous layer. This fairly simple operation reduces the data significantly and prepares the model for the final classification layer. It also has no trainable parameters. \n",
    "* It is more meaningful and interpretable as it enforces correspondance between feature maps and categories.\n",
    "* It is itself a structural regularizer, which natively prevents overfitting for the overall structure.\n",
    "* Input image size -> (4,4,3): Global avergae pooling2D output -> (1,3)"
   ]
  },
  {
   "cell_type": "markdown",
   "metadata": {
    "colab_type": "text",
    "id": "6s8xZWN5EeSO"
   },
   "source": [
    "* What is sparse_categorical_crossentropy loss function ?"
   ]
  },
  {
   "cell_type": "markdown",
   "metadata": {
    "colab_type": "text",
    "id": "Kd8QHQeaEy48"
   },
   "source": [
    "Cross entropy loss given by:\n",
    "\n",
    "\\begin{equation}\n",
    "C E=-\\sum_{i}^{C} t_{i} \\log \\left(s_{i}\\right)\n",
    "\\end{equation}\n",
    "\n",
    "where $t_i$ and $s_i$ are the groundtruth and the CNN score for each class i in C. An activation function is used to score before the CE loss computation. Categorical corss entropy loss utilizes a softmax activation with a cross-entropy loss and used in multiclass classification problem.\n",
    "\n",
    "A possible cause of frustration when using cross-entropy with multiclass classification problems with a large number of labels is the one hot encoding process.\n",
    "\n",
    "For example, predicting words in a vocabulary may have tens or hundreds of thousands of categories, one for each label. This can mean that the target element of each training example may require a one hot encoded vector with tens or hundreds of thousands of zero values, requiring significant memory.\n",
    "\n",
    "**Sparse cross-entropy** addresses this by performing the same cross-entropy calculation of error, without requiring that the target variable be one hot encoded prior to training. Sparse refers to using a single integer from zero to the number of classes minus one (e.g. { 0; 1; or 2 } for a class label for a three-class problem), instead of a dense one-hot encoding of the class label (e.g. { 1,0,0; 0,1,0; or 0,0,1 } for a class label for the same three-class problem). \n",
    "\n",
    "Reference: https://machinelearningmastery.com/how-to-choose-loss-functions-when-training-deep-learning-neural-networks/"
   ]
  },
  {
   "cell_type": "markdown",
   "metadata": {
    "colab_type": "text",
    "id": "fvqxGHte16q5"
   },
   "source": [
    "# Build different convolutions in Numpy\n",
    "\n",
    "In the questions below you will learn the workings of different convolution network by implementing them in python numpy.\n",
    "\n",
    "There are different kinds of convolution which has been implemented in different neural architectures. The most popular ones are :\n",
    "\n",
    "1. Simple Convolution\n",
    "2. Atrous Convolution\n",
    "3. Depth wise Convolution\n",
    "4. Point wise Convolution\n",
    "5. Depth wise separable Convolution\n",
    "\n",
    "Good summary can be found here\n",
    "[convolutions-types]( https://ikhlestov.github.io/pages/machine-learning/convolutions-types/). \n",
    "\n",
    "The task is to read about them and implement them using numpy"
   ]
  },
  {
   "cell_type": "code",
   "execution_count": 21,
   "metadata": {
    "colab": {},
    "colab_type": "code",
    "id": "X6JWEk6Z3sI0"
   },
   "outputs": [],
   "source": [
    "# Helper functions\n",
    "import matplotlib.pyplot as plt\n",
    "\n",
    "(train_images, train_labels), (test_images, test_labels) = tf.keras.datasets.cifar10.load_data()\n",
    "train_images = train_images.reshape(train_images.shape[0], 32, 32, 3).astype('float32')\n",
    "test_images = test_images.reshape(test_images.shape[0], 32, 32, 3).astype('float32')\n",
    "\n",
    "train_images = train_images.astype('float32') / 255.\n",
    "test_images = test_images.astype('float32') / 255.\n",
    "\n",
    "one = train_images[3]\n",
    "def plot_convolution_images(image, convoled_image):\n",
    "        \n",
    "    plt.figure(figsize=(10,10))\n",
    "    plt.subplot(1,2,1)\n",
    "    plt.xticks([])\n",
    "    plt.yticks([])\n",
    "    plt.grid(False)\n",
    "    plt.title(\"Image\")\n",
    "    plt.imshow(image.reshape((32,32,3)))\n",
    "    plt.subplot(1,2,2)\n",
    "    plt.xticks([])\n",
    "    plt.yticks([])\n",
    "    plt.grid(False)\n",
    "    plt.imshow(convoled_image.reshape((32,32)))\n",
    "    plt.title(\"Convolution\")\n",
    "    plt.show()"
   ]
  },
  {
   "cell_type": "markdown",
   "metadata": {
    "colab_type": "text",
    "id": "fVrvSLzduVwX"
   },
   "source": [
    "### Sample: Simple Convolution "
   ]
  },
  {
   "cell_type": "code",
   "execution_count": 22,
   "metadata": {
    "colab": {
     "base_uri": "https://localhost:8080/",
     "height": 119
    },
    "colab_type": "code",
    "id": "RPD9Ap_Y1_zL",
    "outputId": "24c074bf-3588-4bd1-e626-6b6bfdd7f462"
   },
   "outputs": [
    {
     "name": "stdout",
     "output_type": "stream",
     "text": [
      "Input image shape: (32, 32, 3)\n",
      "Kernel shape: (3, 3, 3, 64)\n",
      "Padded image shape: (34, 34, 3)\n",
      "Convoled image shape: (64, 32, 32)\n"
     ]
    },
    {
     "data": {
      "image/png": "[encoded data removed]",
      "text/plain": [
       "<Figure size 720x720 with 2 Axes>"
      ]
     },
     "metadata": {},
     "output_type": "display_data"
    }
   ],
   "source": [
    "import numpy as np\n",
    "\n",
    "def myConv2D(image: np.ndarray, \n",
    "             filter_size: int, \n",
    "             kernel_size: int):\n",
    "    \"\"\"\n",
    "    myConv2D convolutions.\n",
    "    Args:\n",
    "        image: (hi, wi, cin).\n",
    "        filter_size: (fs). The number of output filters\n",
    "        kernel_size: (ks)\n",
    "    Returns:\n",
    "        (fs, hi, wi)\n",
    "    \"\"\"\n",
    "    print(\"Input image shape:\",image.shape)\n",
    "    kernels = np.random.rand(kernel_size, kernel_size, image.shape[-1], filter_size )\n",
    "    # Filter size is the number of filters.\n",
    "    print(\"Kernel shape:\", kernels.shape)\n",
    "    \n",
    "    out = np.zeros([filter_size, image.shape[0], image.shape[1]])\n",
    "    \n",
    "    pad = kernel_size // 2\n",
    "    image_padded = np.pad(image, [(pad,), (pad,), (0,)], 'constant')\n",
    "    print(\"Padded image shape:\", image_padded.shape)\n",
    "    \n",
    "    # for each filter\n",
    "    for idx_c_out in range(filter_size):\n",
    "        \n",
    "        # Select the particular row of patch in the image\n",
    "        for idx_row in range(image.shape[0]):\n",
    "            \n",
    "            # Select the particular column of patch in the image\n",
    "            for idx_col in range(image.shape[1]):\n",
    "                \n",
    "                # Get the kernel random initialized values corresponding to the filter\n",
    "                kernel = kernels[:, :, :, idx_c_out]\n",
    "                \n",
    "                # Select the patch on the image area where the kernel is overlapping\n",
    "                patch = image_padded[idx_row: idx_row + kernel_size, idx_col: idx_col + kernel_size]\n",
    "                \n",
    "                # Do 3D convolution\n",
    "                out[idx_c_out, idx_row, idx_col] += (kernel * patch).sum()\n",
    "                \n",
    "    print (\"Convoled image shape:\",out.shape)\n",
    "    return out\n",
    "\n",
    "# Create inputs\n",
    "#image = np.random.rand(28, 28, 1).astype(np.float32)\n",
    "kernel_size = 3\n",
    "filters = 64\n",
    "convolved = myConv2D(one, filters, kernel_size)\n",
    "plot_convolution_images(one, convolved[0])"
   ]
  },
  {
   "cell_type": "markdown",
   "metadata": {
    "colab_type": "text",
    "id": "OUiwDeMAvBQ9"
   },
   "source": [
    "## Question: Extend Simple Convolution to accomodate Atrous/Dilated Convolution in numpy [10 points]"
   ]
  },
  {
   "cell_type": "code",
   "execution_count": 52,
   "metadata": {
    "colab": {},
    "colab_type": "code",
    "id": "RrCRGsAKu_Xo"
   },
   "outputs": [
    {
     "name": "stdout",
     "output_type": "stream",
     "text": [
      "Input image shape (32, 32, 3)\n",
      "Kernel shape: (7, 7, 3, 64)\n",
      "Padded image shape: (38, 38, 3)\n",
      "Convolved image shape (64, 32, 32)\n"
     ]
    },
    {
     "data": {
      "image/png": "[encoded data removed]",
      "text/plain": [
       "<Figure size 720x720 with 2 Axes>"
      ]
     },
     "metadata": {},
     "output_type": "display_data"
    },
    {
     "name": "stdout",
     "output_type": "stream",
     "text": [
      "Input image shape (32, 32, 3)\n",
      "Kernel shape: (11, 11, 3, 64)\n",
      "Padded image shape: (42, 42, 3)\n",
      "Convolved image shape (64, 32, 32)\n"
     ]
    },
    {
     "data": {
      "image/png": "[encoded data removed]",
      "text/plain": [
       "<Figure size 720x720 with 2 Axes>"
      ]
     },
     "metadata": {},
     "output_type": "display_data"
    }
   ],
   "source": [
    "def myConv2DWithDilation(image: np.ndarray, \n",
    "             dilation_rate: int, \n",
    "             filter_size: int,\n",
    "             kernel_size: int):\n",
    "    \"\"\"\n",
    "    myConv2D convolutions.\n",
    "    Args:\n",
    "        image: (hi, wi, cin)\n",
    "        dilation_rate: (dr) \n",
    "        filter_size: (ds)\n",
    "        kernel_size: (ks)\n",
    "    Returns:\n",
    "        ( ?????Fill this ???? )\n",
    "    \"\"\"\n",
    "\n",
    "    print(\"Input image shape\", image.shape)\n",
    "    kernels = np.random.rand(kernel_size, kernel_size, image.shape[-1], filter_size )\n",
    "\n",
    "        \n",
    "    for i in range(dilation_rate-1):\n",
    "        kernels = np.insert(kernels, [i+1,i+2],0, axis=1)\n",
    "        kernels = np.insert(kernels, [i+1,i+2],0, axis=0)\n",
    "\n",
    "    kernel_pad = dilation_rate - 1\n",
    "    # Increase kernel receptive field\n",
    "    kernels = np.pad(kernels, [(kernel_pad,), (kernel_pad,),(0,), (0,)], 'constant')\n",
    "    print(\"Kernel shape:\", kernels.shape)\n",
    "    \n",
    "    out = np.zeros([filter_size, image.shape[0], image.shape[1]])\n",
    "    \n",
    "    kernel_size = kernels.shape[0]\n",
    "    pad = kernel_size // 2\n",
    "    image_padded = np.pad(image, [(pad,), (pad,), (0,)], 'constant')\n",
    "    print(\"Padded image shape:\", image_padded.shape)\n",
    "    \n",
    "    # for each filter\n",
    "    for idx_c_out in range(filter_size):\n",
    "        \n",
    "        # Select the particular row of patch in the image\n",
    "        for idx_row in range(image.shape[0]):\n",
    "            \n",
    "            # Select the particular column of patch in the image\n",
    "            for idx_col in range(image.shape[1]):\n",
    "                \n",
    "                # Get the kernel random initialized values corresponding to the filter\n",
    "                kernel = kernels[:, :, :, idx_c_out]\n",
    "                \n",
    "                # Select the patch on the image area where the kernel is overlapping\n",
    "                patch = image_padded[idx_row: idx_row + kernel_size, idx_col: idx_col + kernel_size]\n",
    "                \n",
    "                # Do 3D convolution\n",
    "                out[idx_c_out, idx_row, idx_col] += (kernel * patch).sum()\n",
    "                \n",
    "\n",
    "    print(\"Convolved image shape\", out.shape)\n",
    "    return out\n",
    "\n",
    "kernel_size = 3\n",
    "filters = 64\n",
    "dilation = 2\n",
    "convolved = myConv2DWithDilation(one, dilation, filters, kernel_size)\n",
    "plot_convolution_images(one, convolved[0])\n",
    "dilation = 3\n",
    "convolved = myConv2DWithDilation(one, dilation, filters, kernel_size)\n",
    "plot_convolution_images(one, convolved[0])\n",
    "\n",
    "\n",
    "# https://towardsdatascience.com/understanding-2d-dilated-convolution-operation-with-examples-in-numpy-and-tensorflow-with-d376b3972b25"
   ]
  },
  {
   "cell_type": "markdown",
   "metadata": {
    "colab_type": "text",
    "id": "i4bnqbWu6Rpb"
   },
   "source": [
    "## Question: Implement a DepthwiseConvolution  in numpy [10 points]"
   ]
  },
  {
   "cell_type": "code",
   "execution_count": 11,
   "metadata": {
    "colab": {},
    "colab_type": "code",
    "id": "y7nY5aj0823G"
   },
   "outputs": [
    {
     "name": "stdout",
     "output_type": "stream",
     "text": [
      "Input image shape (32, 32, 3)\n",
      "Kernel shape (3, 3, 1, 64)\n",
      "Padded image shape: (34, 34, 3)\n",
      "Convolved image shape: (192, 32, 32)\n"
     ]
    },
    {
     "data": {
      "image/png": "[encoded data removed]",
      "text/plain": [
       "<Figure size 720x720 with 2 Axes>"
      ]
     },
     "metadata": {},
     "output_type": "display_data"
    }
   ],
   "source": [
    "def myDepthWiseConv2D(image: np.ndarray, \n",
    "             depth_multiplier: int, \n",
    "             kernel_size: int):\n",
    "    \"\"\"\n",
    "    myConv2D convolutions.\n",
    "    Args:\n",
    "        image: (hi, wi, cin).\n",
    "        depth_multiplier: (ds).The number of depthwise convolution output channels for each input channel\n",
    "        kernel_size: (ks)\n",
    "    Returns:\n",
    "        (ds * cin, hi, wi)\n",
    "    \"\"\"\n",
    "    '''\n",
    "    depth_multiplier: Float multiplier for the depth (number of channels)\n",
    "    for all convolution ops. The value must be greater than zero. Typical\n",
    "    usage will be to set this value in (0, 1) to reduce the number of\n",
    "    parameters or computation cost of the model.\n",
    "      '''\n",
    "    \n",
    "    print(\"Input image shape\", image.shape)\n",
    "    kernels = np.random.rand(kernel_size, kernel_size, 1, depth_multiplier)\n",
    "    print(\"Kernel shape\", kernels.shape)\n",
    "    \n",
    "    out = np.zeros([depth_multiplier*kernel_size, image.shape[0], image.shape[1]])\n",
    "    \n",
    "    kernel_size = kernels.shape[0]\n",
    "    pad = kernel_size // 2\n",
    "    image_padded = np.pad(image, [(pad,), (pad,), (0,)], 'constant')\n",
    "    print(\"Padded image shape:\", image_padded.shape)\n",
    "    \n",
    "    # for each filter\n",
    "    for idx_c_out in range(depth_multiplier):\n",
    "        \n",
    "        # Select the particular row of patch in the image\n",
    "        for idx_row in range(image.shape[0]):\n",
    "            \n",
    "            # Select the particular column of patch in the image\n",
    "            for idx_col in range(image.shape[1]):\n",
    "                \n",
    "                # Get the kernel random initialized values corresponding to the filter\n",
    "                kernel = kernels[:, :, :, idx_c_out]\n",
    "                \n",
    "                # Select the patch on the image area where the kernel is overlapping\n",
    "                patch = image_padded[idx_row: idx_row + kernel_size, idx_col: idx_col + kernel_size]\n",
    "                \n",
    "                # Do 3D convolution\n",
    "                out[idx_c_out, idx_row, idx_col] += (kernel * patch).sum()\n",
    "                \n",
    "    \n",
    "    print(\"Convolved image shape:\", out.shape)\n",
    "    return out\n",
    "\n",
    "\n",
    "kernel_size = 3\n",
    "filters = 64\n",
    "convolved = myDepthWiseConv2D(one, filters, kernel_size)\n",
    "plot_convolution_images(one, convolved[0])"
   ]
  },
  {
   "cell_type": "markdown",
   "metadata": {
    "colab_type": "text",
    "id": "-b1wDzPRUNik"
   },
   "source": [
    "## Question: Combine Depthwise and Pointwise and implement a Depthwise Separable Convolution in numpy [10 points]"
   ]
  },
  {
   "cell_type": "code",
   "execution_count": 12,
   "metadata": {
    "colab": {},
    "colab_type": "code",
    "id": "0y5cSYJsu523"
   },
   "outputs": [
    {
     "name": "stdout",
     "output_type": "stream",
     "text": [
      "*** Performing Depthwise convolution ***\n",
      "Input image shape (32, 32, 3)\n",
      "Kernel shape (3, 3, 1, 64)\n",
      "Padded image shape: (34, 34, 3)\n",
      "Convolved image shape: (192, 32, 32)\n",
      "Depthwise convolution output shape: (192, 32, 32)\n",
      "\n",
      "*** Performing Pointwise convolution to the output of depthwise convolution ***\n",
      "Input image shape (192, 32, 32)\n",
      "Kernel shape (1, 1, 192, 16)\n",
      "Padded image shape: (192, 32, 32)\n",
      "Convolved image shape: (16, 32, 32)\n",
      "Pointwise convolution output shape: (16, 32, 32)\n"
     ]
    },
    {
     "data": {
      "image/png": "[encoded data removed]",
      "text/plain": [
       "<Figure size 720x720 with 2 Axes>"
      ]
     },
     "metadata": {},
     "output_type": "display_data"
    }
   ],
   "source": [
    "def myPointWiseConv2D(image: np.ndarray,\n",
    "                              filters_pointwise: int,\n",
    "                              kernel_size: int):\n",
    "    \n",
    "    \"\"\"\n",
    "    Pointwise convolutions.\n",
    "    Args:\n",
    "        image: (hi, wi, cin).\n",
    "        filters_pointwise: (ps). The number of pointwise convolution output channels for each input channel\n",
    "        kernel_size: (ks)\n",
    "    Returns:\n",
    "        (???? Fill this ????? )\n",
    "    \"\"\"\n",
    "    \n",
    "    print(\"Input image shape\", image.shape)\n",
    "    channels = image.shape[0]\n",
    "    kernels = np.random.rand(1, 1, channels, filters_pointwise)\n",
    "    print(\"Kernel shape\", kernels.shape)\n",
    "    \n",
    "    out = np.zeros([filters_pointwise, image.shape[1], image.shape[2]])\n",
    "    \n",
    "    kernel_size = kernels.shape[0]\n",
    "    pad = kernel_size // 2\n",
    "    image_padded = np.pad(image, [(pad,), (pad,), (0,)], 'constant')\n",
    "    print(\"Padded image shape:\", image_padded.shape)\n",
    "    \n",
    "    # for each filter\n",
    "    for idx_c_out in range(filters_pointwise):\n",
    "        \n",
    "        # Select the particular row of patch in the image\n",
    "        for idx_row in range(image.shape[1]):\n",
    "            \n",
    "            # Select the particular column of patch in the image\n",
    "            for idx_col in range(image.shape[2]):\n",
    "                \n",
    "                # Get the kernel random initialized values corresponding to the filter\n",
    "                kernel = kernels[:, :, :, idx_c_out]\n",
    "                \n",
    "                # Select the patch on the image area where the kernel is overlapping\n",
    "                patch = image_padded[:,idx_row: idx_row + kernel_size, idx_col: idx_col + kernel_size]\n",
    "                \n",
    "                # Do 3D convolution\n",
    "                out[idx_c_out, idx_row, idx_col] += (kernel * patch).sum()\n",
    "                \n",
    "    \n",
    "    print(\"Convolved image shape:\", out.shape)\n",
    "    return out\n",
    "\n",
    "def myDepthWiseSeparableConv2D(image: np.ndarray,\n",
    "                              depth_multiplier: int,\n",
    "                              filters_pointwise: int,\n",
    "                              kernel_size: int):\n",
    "    \"\"\"\n",
    "    Depthwise separable convolutions.\n",
    "    Args:\n",
    "        image: (hi, wi, cin).\n",
    "        depth_multiplier: (ds).The number of depthwise convolution output channels for each input channel\n",
    "        filters_pointwise: (ps). The number of pointwise convolution output channels for each input channel\n",
    "        kernel_size: (ks)\n",
    "    Returns:\n",
    "        (???? Fill this ????? )\n",
    "    \"\"\"\n",
    "    print(\"*** Performing Depthwise convolution ***\")\n",
    "    depthwise_conv_out = myDepthWiseConv2D(image, depth_multiplier, kernel_size)\n",
    "    print(\"Depthwise convolution output shape:\",depthwise_conv_out.shape)\n",
    "    \n",
    "    print(\"\\n*** Performing Pointwise convolution to the output of depthwise convolution ***\")\n",
    "    pointwise_conv_out = myPointWiseConv2D(depthwise_conv_out, filters_pointwise, kernel_size)\n",
    "    print(\"Pointwise convolution output shape:\",pointwise_conv_out.shape)\n",
    "    \n",
    "    out = pointwise_conv_out\n",
    "    return out\n",
    "\n",
    "\n",
    "kernel_size = 3\n",
    "filters = 64\n",
    "pointwise_filters = 16\n",
    "dilation = 2\n",
    "convolved = myDepthWiseSeparableConv2D(one, filters, pointwise_filters, kernel_size)\n",
    "plot_convolution_images(one, convolved[0])"
   ]
  },
  {
   "cell_type": "markdown",
   "metadata": {
    "colab_type": "text",
    "id": "3P_dMeYsvzPP"
   },
   "source": [
    "## Questions: Understanding Convolution [2x5 = 10 points]"
   ]
  },
  {
   "cell_type": "markdown",
   "metadata": {
    "colab_type": "text",
    "id": "9GjiIX2kbM9j"
   },
   "source": [
    "What are the advantages of Atrous/Dilated convolutions? For which tasks are they used?"
   ]
  },
  {
   "cell_type": "markdown",
   "metadata": {
    "colab_type": "text",
    "id": "6-5R7GoQbhoV"
   },
   "source": [
    "* The dilated convolution architecture generalises Kronecker-factored convolutional filters, it allows for very large receptive fields while only growing the number of parameters logarithmically shows how you can use a similar idea in classification to achieve 3.6× parameter reduction with only 1 drop of accuracy. Dilated convolution can be used in Segmentation tasks.\n",
    "\n",
    "* This delivers a wider field of view at the same computational cost.\n",
    "\n",
    "* Provides global context of a feature map than simple convolution. This is the reason atrous convolution is widely used for semantic segmentation tasks.\n",
    "\n",
    "Tasks:\n",
    "1. Semantic segmentation (DeepLab v1, v2 and v3).\n",
    "2. Object detection. (Modeling local and global deformations in deep learning: Epitomic convolution, multiple instance learning, and sliding window detection, Object detection via region-based fully convolutional networks. )\n",
    "3. Skin lesion classification.\n",
    "\n"
   ]
  },
  {
   "cell_type": "markdown",
   "metadata": {
    "colab_type": "text",
    "id": "ukSc9ceBbijn"
   },
   "source": [
    "* What are advantages of Depthwise convolution over normal convolution?"
   ]
  },
  {
   "cell_type": "markdown",
   "metadata": {
    "colab_type": "text",
    "id": "th_ohwdHbo_P"
   },
   "source": [
    "Depthwise convolution applies convolution to single channel at a time instead of applying a convolution on all the channels at a time. Doing depthwise convolution results in lesser number of multiplication operations that can be done.\n",
    "\n",
    "Depth wise convolution operation:\n",
    "\n",
    "In depth-wise operation, convolution is applied to a single channel at a time unlike standard CNN’s in which it is done for all the M channels. So here the filters/kernels will be of size Dk x Dk x 1. Given there are M channels in the input data, then M such filters are required. Output will be of size Dp x Dp x M.\n",
    "\n",
    "\\begin{equation}\n",
    "\\text { Total no of multiplications }=M \\times D k^{2} \\times D p^{2}\n",
    "\\end{equation}\n",
    "\n",
    "Normal convolution operation:\n",
    "\n",
    "Suppose there is an input data of size Df x Df x M, where Df x Df can be the image size and M is the number of channels (3 for an RGB image). Suppose there are N filters/kernels of size Dk x Dk x M. If a normal convolution operation is done, then, the output size will be Dp x Dp x N.\n",
    "\n",
    "\\begin{equation}\n",
    "\\text { Total no of multiplications }=N \\times D p^{2} \\times D k^{2} \\times M\n",
    "\\end{equation}\n",
    "\n",
    "Depthwise convolutions form the basic blocks of depthwise separable convolutions which are available in MobileNet and Xception.\n",
    "\n",
    "\n",
    "Reference: https://www.geeksforgeeks.org/depth-wise-separable-convolutional-neural-networks/"
   ]
  },
  {
   "cell_type": "markdown",
   "metadata": {
    "colab_type": "text",
    "id": "rim6fxLC_MD2"
   },
   "source": [
    "# Build different Activation function\n",
    "\n",
    "In this section we will learn about different activation functions."
   ]
  },
  {
   "cell_type": "markdown",
   "metadata": {
    "colab_type": "text",
    "id": "gyFb8qKJwB_X"
   },
   "source": [
    "## Question: Softmax Activation [5 points]"
   ]
  },
  {
   "cell_type": "markdown",
   "metadata": {},
   "source": [
    "Softmax activation function for an input vector x:\n",
    "\n",
    "\\begin{equation}\n",
    "S\\left(x_{i}\\right)=\\frac{e^{x_{i}}}{\\sum_{j=1}^{j} e^{x_{j}}}\n",
    "\\end{equation}\n",
    "\n",
    "Reference: https://stackoverflow.com/questions/34968722/how-to-implement-the-softmax-function-in-python"
   ]
  },
  {
   "cell_type": "code",
   "execution_count": 14,
   "metadata": {
    "colab": {},
    "colab_type": "code",
    "id": "_SQaRygGwHob"
   },
   "outputs": [
    {
     "name": "stdout",
     "output_type": "stream",
     "text": [
      "Softmax implementation output:\n",
      "[[0.0062687868870678586, 0.017040329481598906, 0.04632041798078525, 0.9303704656505479], [0.012037642711939453, 0.0889468172974043, 0.24178251715880078, 0.6572330228318555], [0.0062687868870678586, 0.017040329481598906, 0.04632041798078525, 0.9303704656505479]]\n",
      "\n",
      "Softmax Tensorflow implementation output:\n",
      "[[0.00626879 0.01704033 0.04632042 0.93037045]\n",
      " [0.01203764 0.08894681 0.24178252 0.657233  ]\n",
      " [0.00626879 0.01704033 0.04632042 0.93037045]]\n"
     ]
    }
   ],
   "source": [
    "def softmax(x: np.ndarray):\n",
    "    out = np.exp(x) / np.sum(np.exp(x), axis=0)\n",
    "    return out\n",
    "\n",
    "def softmax_tensorflow(x):\n",
    "    batch = np.asarray(x)\n",
    "    x = tf.placeholder(tf.float32, shape=[None, 4])\n",
    "    y = tf.nn.softmax(x)\n",
    "    init = tf.initialize_all_variables()\n",
    "    sess = tf.Session()\n",
    "    out = sess.run(y, feed_dict={x: batch})\n",
    "    return out\n",
    "    \n",
    "# Get input vector\n",
    "x = np.asarray([[1,2,3,6],[2,4,5,6],[1,2,3,6]])\n",
    "output=list()\n",
    "print(\"Softmax implementation output:\")\n",
    "for i in x:\n",
    "    output.append(list(softmax(i)))\n",
    "print(output)\n",
    "print(\"\\nSoftmax Tensorflow implementation output:\")\n",
    "output = softmax_tensorflow(x)\n",
    "print(output)\n",
    "    "
   ]
  },
  {
   "cell_type": "markdown",
   "metadata": {
    "colab_type": "text",
    "id": "N88zQImlwIRn"
   },
   "source": [
    "## Question: Build a leaky RELU Activation function [5 points]"
   ]
  },
  {
   "cell_type": "code",
   "execution_count": 16,
   "metadata": {
    "colab": {},
    "colab_type": "code",
    "id": "_pDZk_MEwVuz"
   },
   "outputs": [
    {
     "name": "stdout",
     "output_type": "stream",
     "text": [
      "Leaky ReLu implementation output:\n",
      "[[-0.1, -0.05, -0.02, -0.01, 0.0, 1.0, 2.0, 5.0]]\n"
     ]
    },
    {
     "data": {
      "image/png": "[encoded data removed]",
      "text/plain": [
       "<Figure size 864x576 with 1 Axes>"
      ]
     },
     "metadata": {
      "needs_background": "light"
     },
     "output_type": "display_data"
    }
   ],
   "source": [
    "def leakyrelu(x: np.ndarray):\n",
    "    out = np.where(x > 0, x, x * 0.01)\n",
    "\n",
    "    return out\n",
    "\n",
    "x = np.asarray([[-10,-5,-2,-1, 0, 1,2,5]])\n",
    "output=list()\n",
    "print(\"Leaky ReLu implementation output:\")\n",
    "for i in x:\n",
    "    output.append(list(leakyrelu(i)))\n",
    "print(output)\n",
    "\n",
    "plt.figure(figsize=(12,8))\n",
    "plt.plot(x[0], output[0])\n",
    "plt.xlabel(r\"Induced local field, x$\\rightarrow$\")\n",
    "plt.ylabel(r\"Leaky ReLu activation output, y$\\rightarrow$\")\n",
    "plt.axhline(0, color='k')\n",
    "plt.axvline(0, color='k')\n",
    "plt.grid()"
   ]
  },
  {
   "cell_type": "markdown",
   "metadata": {
    "colab_type": "text",
    "id": "Si0dJGEgwOY0"
   },
   "source": [
    "## Question: Build a Swish Activation function [10 points]\n",
    "\n",
    "Details of the swish activation function can be found in section 4 of the paper [SEARCHING FORACTIVATIONFUNCTIONS](https://arxiv.org/pdf/1710.05941.pdf)"
   ]
  },
  {
   "cell_type": "markdown",
   "metadata": {},
   "source": [
    "Swish(x) = x * sigmoid(𝛽 * x)\n",
    "\n",
    "The original paper suggest 𝛽=1 provides better results"
   ]
  },
  {
   "cell_type": "code",
   "execution_count": 17,
   "metadata": {
    "colab": {},
    "colab_type": "code",
    "id": "xnORrGPOwZlC"
   },
   "outputs": [
    {
     "name": "stdout",
     "output_type": "stream",
     "text": [
      "Swish implementation output (with beta = 1):\n",
      "[[-0.00045397868702434395, -0.03346425462142428, -0.2384058440442351, -0.2689414213699951, 0.0, 0.7310585786300049, 1.7615941559557646, 4.966535745378576, 9.999546021312977]]\n",
      "\n",
      "Swish implementation output (with beta = 5):\n",
      "[[-1.928749847963918e-21, -6.943971932385572e-11, -9.079573740486879e-05, -0.0066928509242848554, 0.0, 0.9933071490757153, 1.9999092042625952, 4.99999999993056, 10.0]]\n",
      "\n",
      "Swish implementation output (with beta = 0.5):\n",
      "[[-0.06692850924284856, -0.37929090010621774, -0.5378828427399902, -0.3775406687981454, 0.0, 0.6224593312018546, 1.4621171572600098, 4.620709099893783, 9.933071490757152]]\n",
      "\n",
      "Swish implementation output (with beta = 0.1):\n",
      "[[-2.6894142136999513, -1.8877033439907271, -0.9003320053750443, -0.47502081252106, 0.0, 0.52497918747894, 1.099667994624956, 3.112296656009273, 7.310585786300049]]\n"
     ]
    },
    {
     "data": {
      "image/png": "[encoded data removed]",
      "text/plain": [
       "<Figure size 864x576 with 1 Axes>"
      ]
     },
     "metadata": {
      "needs_background": "light"
     },
     "output_type": "display_data"
    }
   ],
   "source": [
    "def sigmoid(x: np.ndarray):\n",
    "    return 1/(1+np.exp(-x))\n",
    "\n",
    "def swish(x: np.ndarray,\n",
    "          beta: float):\n",
    "    out = x * sigmoid(beta*x)\n",
    "\n",
    "    return out\n",
    "\n",
    "\n",
    "x = np.asarray([[-10,-5,-2,-1, 0, 1,2,5,10]])\n",
    "beta = 1\n",
    "plt.figure(figsize=(12,8))\n",
    "output=list()\n",
    "\n",
    "print(\"Swish implementation output (with beta = 1):\")\n",
    "for i in x:\n",
    "    output.append(list(swish(i, beta)))\n",
    "print(output)\n",
    "plt.plot(x[0], output[0], label='beta = 1')\n",
    "\n",
    "beta = 5\n",
    "output=list()\n",
    "print(\"\\nSwish implementation output (with beta = 5):\")\n",
    "for i in x: \n",
    "    output.append(list(swish(i, beta)))\n",
    "print(output)\n",
    "plt.plot(x[0], output[0], label='beta = 5')\n",
    "\n",
    "beta = 0.5\n",
    "output=list()\n",
    "print(\"\\nSwish implementation output (with beta = 0.5):\")\n",
    "for i in x: \n",
    "    output.append(list(swish(i, beta)))\n",
    "print(output)\n",
    "plt.plot(x[0], output[0], label='beta = 0.5')\n",
    "\n",
    "beta = 0.1\n",
    "output=list()\n",
    "print(\"\\nSwish implementation output (with beta = 0.1):\")\n",
    "for i in x: \n",
    "    output.append(list(swish(i, beta)))\n",
    "print(output)\n",
    "plt.plot(x[0], output[0], label='beta = 0.1')\n",
    "\n",
    "plt.xlabel(r\"Induced local field, x$\\rightarrow$\")\n",
    "plt.ylabel(r\"Swish activation output, y$\\rightarrow$\")\n",
    "plt.axhline(0, color='k')\n",
    "plt.axvline(0, color='k')\n",
    "plt.grid()\n",
    "plt.legend()\n",
    "plt.show()\n"
   ]
  },
  {
   "cell_type": "markdown",
   "metadata": {
    "colab_type": "text",
    "id": "VwZDpyw-gnKX"
   },
   "source": [
    "# Explain a fractional Max pooling function [10 points]\n",
    "\n",
    "Fractional Max pooling was introduced by the paper [Benjamin Graham, Fractional Max-Pooling](https://arxiv.org/abs/1412.6071)\n",
    "\n",
    "Explain below the difference between normal max pooling and fractional max pooling ?"
   ]
  },
  {
   "cell_type": "markdown",
   "metadata": {
    "colab_type": "text",
    "id": "wcafTm8phhSa"
   },
   "source": [
    "* Disjoint nature of pooling regions and since size decreases rapidly, stacks of back-to-back CNNs are needed to build deep networks --> Shortcomings of MP2.\n",
    "\n",
    "* The idea of FMP is to reduce the spatial size of the image by a factor of α with 1 < α < 2. Like stochastic pooling, FMP introduces a degree of randomness to the pooling process.\n",
    "\n",
    "* In FMP, pooling regions can be chosen in a random or pseudorandom manner. Pooling regions can be disjoint or overlapping.\n",
    "\n",
    "* In case of a normal 2 x 2 Maxpooling the input feature map is halved which results in halving the important features where as Fractional Max Pooling reduces the features by $\\sqrt[n]{2}$ which results in slowing down the reduction of featues by n times. n decides the spped at which the feature reduction is controlled.\n",
    "\n",
    "* Fractional max pooling is slightly different than regular max pooling. In regular max pooling, you downsize an input set by taking the maximum value of smaller N x N subsections of the set (often 2x2), and try to reduce the set by a factor of N, where N is an integer. Fractional max pooling, as you might expect from the word \"fractional\", means that the overall reduction ratio N does not have to be an integer. The sizes of the pooling regions are generated randomly but are fairly uniform.\n",
    "\n",
    "* Max-pooling act on the hidden layers of the network, reducing their size by an integer multiplicative factor α. This reduces 75% of the data that build into the network a degree of invariance with respect to translations and elastic distortions. \n",
    "\n",
    "* However, if you simply alternate convolutional layers with max-pooling layers, performance is limited due to the rapid reduction in spatial size, and the disjoint nature of the pooling regions. In fractional maxpooling α is allowed to take non-integer values. This type of max-pooling is stochastic as there are lots of different ways of constructing suitable pooling regions. Fractional max-pooling reduces overfitting on a variety of datasets as discussed in the paper on CIFAR10.\n",
    "\n",
    "* Pseudorandom approach generates more stable pooling regions. Random FMP is good on its own but may underfit when combined with dropout or training data augmentation. Overlapping FMP performs better than disjoint FMP.\n",
    "\n",
    "\n",
    "References: \n",
    "1. https://arxiv.org/pdf/1412.6071.pdf\n",
    "2. https://gist.github.com/shagunsodhani/ccfe3134f46fd3738aa0\n",
    " "
   ]
  },
  {
   "cell_type": "markdown",
   "metadata": {
    "colab_type": "text",
    "id": "4_ZEh3iCicmy"
   },
   "source": [
    "## Total hours spent\n",
    "\n",
    "Please report the total time invested in solving the assignment below"
   ]
  },
  {
   "cell_type": "code",
   "execution_count": null,
   "metadata": {
    "colab": {},
    "colab_type": "code",
    "id": "xoSjtR3aivOI"
   },
   "outputs": [],
   "source": [
    "total_time_invested = 11"
   ]
  },
  {
   "cell_type": "code",
   "execution_count": null,
   "metadata": {},
   "outputs": [],
   "source": []
  }
 ],
 "metadata": {
  "accelerator": "GPU",
  "colab": {
   "collapsed_sections": [],
   "name": "ConvolutionAssignment.ipynb",
   "provenance": [],
   "toc_visible": true
  },
  "kernelspec": {
   "display_name": "Python (Tensorflow)",
   "language": "python",
   "name": "tensorflow"
  },
  "language_info": {
   "codemirror_mode": {
    "name": "ipython",
    "version": 3
   },
   "file_extension": ".py",
   "mimetype": "text/x-python",
   "name": "python",
   "nbconvert_exporter": "python",
   "pygments_lexer": "ipython3",
   "version": "3.6.9"
  }
 },
 "nbformat": 4,
 "nbformat_minor": 1
}
